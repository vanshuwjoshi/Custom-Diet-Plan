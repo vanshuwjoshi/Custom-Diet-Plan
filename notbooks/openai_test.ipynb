{
 "cells": [
  {
   "cell_type": "code",
   "execution_count": 1,
   "metadata": {},
   "outputs": [],
   "source": [
    "from langchain_openai import OpenAI\n",
    "import os\n",
    "from langchain.prompts import PromptTemplate\n",
    "from langchain.chains import LLMChain"
   ]
  },
  {
   "cell_type": "code",
   "execution_count": 2,
   "metadata": {},
   "outputs": [
    {
     "data": {
      "text/plain": [
       "True"
      ]
     },
     "execution_count": 2,
     "metadata": {},
     "output_type": "execute_result"
    }
   ],
   "source": [
    "from dotenv import load_dotenv, find_dotenv\n",
    "load_dotenv()"
   ]
  },
  {
   "cell_type": "code",
   "execution_count": 3,
   "metadata": {},
   "outputs": [],
   "source": [
    "llm = OpenAI(\n",
    "    temperature=0.0, openai_api_key=os.getenv(\"OPENAI_API_KEY\")\n",
    ")"
   ]
  },
  {
   "cell_type": "code",
   "execution_count": 14,
   "metadata": {},
   "outputs": [],
   "source": [
    "calories_input_variables = [\n",
    "    \"age\",\n",
    "    \"current_weight\",\n",
    "    \"desired_weight\",\n",
    "    \"current_height\",\n",
    "    \"gender\",\n",
    "    \"activity_level\",\n",
    "]"
   ]
  },
  {
   "cell_type": "code",
   "execution_count": 25,
   "metadata": {},
   "outputs": [],
   "source": [
    "calories_template = PromptTemplate(\n",
    "    input_variables= calories_input_variables,\n",
    "    template=\"I am a {age} {gender}. My current weight is {current_weight} kgs and my current height is {current_height}cm. I am a {activity_level} person. What will be my calories goal per day if my desired weight is {desired_weight} kgs? Just give me the calories.\"\n",
    ")"
   ]
  },
  {
   "cell_type": "code",
   "execution_count": 17,
   "metadata": {},
   "outputs": [],
   "source": [
    "calories_message = calories_template.format_prompt(\n",
    "    age=23,\n",
    "    current_weight=80,\n",
    "    desired_weight=85,\n",
    "    current_height=180,\n",
    "    gender=\"Male\",\n",
    "    activity_level=\"highly active\",\n",
    ")"
   ]
  },
  {
   "cell_type": "code",
   "execution_count": 23,
   "metadata": {},
   "outputs": [
    {
     "name": "stdout",
     "output_type": "stream",
     "text": [
      "I am a 23 Male. My current weight is 80 kgs and my current height is 180cm. I am a highly active person. What will be my calories goal per day if my desired weight is 85 kgs?\n"
     ]
    }
   ],
   "source": [
    "print(calories_message.text)"
   ]
  },
  {
   "cell_type": "code",
   "execution_count": 26,
   "metadata": {},
   "outputs": [
    {
     "name": "stdout",
     "output_type": "stream",
     "text": [
      "\n",
      "\n",
      "To maintain your current weight of 80 kgs, your daily calorie intake should be around 2,400 calories. To reach your desired weight of 85 kgs, you will need to increase your calorie intake by approximately 500-600 calories per day. This means your daily calorie goal should be around 3,000 calories. However, keep in mind that this is just an estimate and your actual calorie needs may vary depending on your activity level, metabolism, and other factors. It is always best to consult with a healthcare professional or registered dietitian to determine a personalized calorie goal for your specific needs and goals.\n"
     ]
    }
   ],
   "source": [
    "print(llm.invoke(calories_message))"
   ]
  },
  {
   "cell_type": "code",
   "execution_count": 7,
   "metadata": {},
   "outputs": [],
   "source": [
    "prompt_template = PromptTemplate(\n",
    "    input_variables=[\"age\", \"weight\", \"gender\", \"desired\"],\n",
    "    template=\"I am a {age} {gender}. My current weight is {weight}. I want to get to {desired} weight. I am a vegan. I want to have 5 meals a day. Can you suggest me a meal plan for today?\",\n",
    ")\n"
   ]
  },
  {
   "cell_type": "code",
   "execution_count": 8,
   "metadata": {},
   "outputs": [
    {
     "name": "stdout",
     "output_type": "stream",
     "text": [
      "I am a 23 male. My current weight is 80. I want to get to 70 weight. I am a vegan. I want to have 5 meals a day. Can you suggest me a meal plan for today?\n"
     ]
    }
   ],
   "source": [
    "message = prompt_template.format(age=23, weight=80, gender=\"male\", desired=70)\n",
    "print(message)"
   ]
  },
  {
   "cell_type": "code",
   "execution_count": 10,
   "metadata": {},
   "outputs": [],
   "source": [
    "response = llm.invoke(message)"
   ]
  },
  {
   "cell_type": "code",
   "execution_count": 11,
   "metadata": {},
   "outputs": [
    {
     "name": "stdout",
     "output_type": "stream",
     "text": [
      "\n",
      "\n",
      "Sure, here is a sample meal plan for you:\n",
      "\n",
      "Meal 1 (Breakfast):\n",
      "- Overnight oats made with 1/2 cup rolled oats, 1 cup almond milk, 1 tbsp chia seeds, and 1/2 cup mixed berries\n",
      "- 1 small avocado toast on whole grain bread\n",
      "- 1 cup green tea\n",
      "\n",
      "Meal 2 (Mid-morning snack):\n",
      "- 1 small apple\n",
      "- 1 small handful of almonds\n",
      "\n",
      "Meal 3 (Lunch):\n",
      "- Quinoa and black bean salad with mixed vegetables (such as bell peppers, cucumber, and cherry tomatoes)\n",
      "- 1 small whole grain pita bread\n",
      "- 1 small side of hummus\n",
      "- 1 small side of roasted chickpeas\n",
      "\n",
      "Meal 4 (Afternoon snack):\n",
      "- Carrot sticks with 2 tbsp of hummus\n",
      "- 1 small banana\n",
      "\n",
      "Meal 5 (Dinner):\n",
      "- Grilled tofu with stir-fried vegetables (such as broccoli, mushrooms, and bell peppers) and brown rice\n",
      "- 1 small side of steamed edamame\n",
      "- 1 small side of kimchi\n",
      "\n",
      "Remember to also stay hydrated throughout the day by drinking plenty of water. You can also switch up the meals and snacks according\n"
     ]
    }
   ],
   "source": [
    "print(response)"
   ]
  },
  {
   "cell_type": "code",
   "execution_count": 12,
   "metadata": {},
   "outputs": [],
   "source": [
    "from langchain.output_parsers import ResponseSchema, StructuredOutputParser"
   ]
  },
  {
   "cell_type": "code",
   "execution_count": 25,
   "metadata": {},
   "outputs": [],
   "source": [
    "meal1 = ResponseSchema(name=\"meal1\", description=\"What should be the breakfast and how many calories are in there?\")\n",
    "meal2 = ResponseSchema(name=\"meal2\", description=\"What should be the mid day snack and how many calories are in there?\")\n",
    "meal3 = ResponseSchema(name=\"meal3\", description=\"What should be the lunch and how many calories are in there?\")\n",
    "meal4 = ResponseSchema(name=\"meal4\", description=\"What should be the evening snack and how many calories are in there?\")\n",
    "meal5 = ResponseSchema(name=\"meal5\", description=\"What should be the dinner and how many calories are in there?\")"
   ]
  },
  {
   "cell_type": "code",
   "execution_count": 26,
   "metadata": {},
   "outputs": [],
   "source": [
    "response_schema = [meal1, meal2, meal3, meal4, meal5]"
   ]
  },
  {
   "cell_type": "code",
   "execution_count": 27,
   "metadata": {},
   "outputs": [
    {
     "name": "stdout",
     "output_type": "stream",
     "text": [
      "The output should be a markdown code snippet formatted in the following schema, including the leading and trailing \"```json\" and \"```\":\n",
      "\n",
      "```json\n",
      "{\n",
      "\t\"meal1\": string  // What should be the breakfast and how many calories are in there?\n",
      "\t\"meal2\": string  // What should be the mid day snack and how many calories are in there?\n",
      "\t\"meal3\": string  // What should be the lunch and how many calories are in there?\n",
      "\t\"meal4\": string  // What should be the evening snack and how many calories are in there?\n",
      "\t\"meal5\": string  // What should be the dinner and how many calories are in there?\n",
      "}\n",
      "```\n"
     ]
    }
   ],
   "source": [
    "output_parser = StructuredOutputParser.from_response_schemas(response_schema)\n",
    "format_instructions = output_parser.get_format_instructions()\n",
    "print(format_instructions)"
   ]
  },
  {
   "cell_type": "code",
   "execution_count": 28,
   "metadata": {},
   "outputs": [],
   "source": [
    "template=\"\"\"\\\n",
    "I am a {age} {gender}. \\\n",
    "I want to eat {calories}. I am a vegan. \\\n",
    "I want to have 5 meals a day. \\\n",
    "Create a meal plan using these details. \\\n",
    "Using these details answer the following question: \\\n",
    "meal1: What should be the breakfast and how many calories are in there? \\\n",
    "meal2: What should be the mid day snack and how many calories are in there? \\\n",
    "meal3: What should be the lunch and how many calories are in there? \\\n",
    "meal4: What should be the evening snack and how many calories are in there? \\\n",
    "meal5: What should be the dinner and how many calories are in there? \\\n",
    "\n",
    "{format_instructions}\n",
    "\"\"\""
   ]
  },
  {
   "cell_type": "code",
   "execution_count": 29,
   "metadata": {},
   "outputs": [],
   "source": [
    "prompt_template = PromptTemplate(\n",
    "    input_variables=[\"age\", \"gender\", \"calories\"],\n",
    "    template=template,\n",
    ")\n"
   ]
  },
  {
   "cell_type": "code",
   "execution_count": 30,
   "metadata": {},
   "outputs": [],
   "source": [
    "message = prompt_template.format(\n",
    "    age=23, gender=\"male\", calories=2600, format_instructions=format_instructions\n",
    ")"
   ]
  },
  {
   "cell_type": "code",
   "execution_count": 31,
   "metadata": {},
   "outputs": [
    {
     "name": "stdout",
     "output_type": "stream",
     "text": [
      "I am a 23 male. I want to eat 2600. I am a vegan. I want to have 5 meals a day. Create a meal plan using these details. Using these details answer the following question: meal1: What should be the breakfast and how many calories are in there? meal2: What should be the mid day snack and how many calories are in there? meal3: What should be the lunch and how many calories are in there? meal4: What should be the evening snack and how many calories are in there? meal5: What should be the dinner and how many calories are in there? \n",
      "The output should be a markdown code snippet formatted in the following schema, including the leading and trailing \"```json\" and \"```\":\n",
      "\n",
      "```json\n",
      "{\n",
      "\t\"meal1\": string  // What should be the breakfast and how many calories are in there?\n",
      "\t\"meal2\": string  // What should be the mid day snack and how many calories are in there?\n",
      "\t\"meal3\": string  // What should be the lunch and how many calories are in there?\n",
      "\t\"meal4\": string  // What should be the evening snack and how many calories are in there?\n",
      "\t\"meal5\": string  // What should be the dinner and how many calories are in there?\n",
      "}\n",
      "```\n",
      "\n"
     ]
    }
   ],
   "source": [
    "print(message)"
   ]
  },
  {
   "cell_type": "code",
   "execution_count": 32,
   "metadata": {},
   "outputs": [],
   "source": [
    "response = llm.invoke(message)"
   ]
  },
  {
   "cell_type": "code",
   "execution_count": 33,
   "metadata": {},
   "outputs": [
    {
     "name": "stdout",
     "output_type": "stream",
     "text": [
      "\n",
      "```json\n",
      "{\n",
      "\t\"meal1\": \"Breakfast: Tofu scramble with veggies and whole grain toast. Calories: 500\",\n",
      "\t\"meal2\": \"Mid-day Snack: Apple slices with almond butter. Calories: 200\",\n",
      "\t\"meal3\": \"Lunch: Quinoa and black bean salad with avocado and veggies. Calories: 600\",\n",
      "\t\"meal4\": \"Evening Snack: Hummus and veggie sticks. Calories: 200\",\n",
      "\t\"meal5\": \"Dinner: Lentil and vegetable curry with brown rice. Calories: 1100\"\n",
      "}\n",
      "```\n",
      "\n",
      "Note: The calorie counts are approximate and may vary depending on specific ingredients and portion sizes. It is important to consult a nutritionist or use a calorie tracking app to ensure that you are meeting your individual calorie and nutrient needs.\n"
     ]
    }
   ],
   "source": [
    "print(response)"
   ]
  },
  {
   "cell_type": "markdown",
   "metadata": {},
   "source": [
    "Convert response to dictionary"
   ]
  },
  {
   "cell_type": "code",
   "execution_count": 34,
   "metadata": {},
   "outputs": [
    {
     "data": {
      "text/plain": [
       "{'meal1': 'Breakfast: Tofu scramble with veggies and whole grain toast. Calories: 500',\n",
       " 'meal2': 'Mid-day Snack: Apple slices with almond butter. Calories: 200',\n",
       " 'meal3': 'Lunch: Quinoa and black bean salad with avocado and veggies. Calories: 600',\n",
       " 'meal4': 'Evening Snack: Hummus and veggie sticks. Calories: 200',\n",
       " 'meal5': 'Dinner: Lentil and vegetable curry with brown rice. Calories: 1100'}"
      ]
     },
     "execution_count": 34,
     "metadata": {},
     "output_type": "execute_result"
    }
   ],
   "source": [
    "output = output_parser.parse(response)\n",
    "output"
   ]
  }
 ],
 "metadata": {
  "kernelspec": {
   "display_name": "Python 3",
   "language": "python",
   "name": "python3"
  },
  "language_info": {
   "codemirror_mode": {
    "name": "ipython",
    "version": 3
   },
   "file_extension": ".py",
   "mimetype": "text/x-python",
   "name": "python",
   "nbconvert_exporter": "python",
   "pygments_lexer": "ipython3",
   "version": "3.9.0"
  }
 },
 "nbformat": 4,
 "nbformat_minor": 2
}
