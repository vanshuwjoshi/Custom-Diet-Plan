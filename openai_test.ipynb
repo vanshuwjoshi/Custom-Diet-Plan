{
 "cells": [
  {
   "cell_type": "code",
   "execution_count": 1,
   "metadata": {},
   "outputs": [],
   "source": [
    "from langchain_openai import OpenAI\n",
    "import os\n",
    "from langchain.prompts import PromptTemplate\n",
    "from langchain.chains import LLMChain"
   ]
  },
  {
   "cell_type": "code",
   "execution_count": 4,
   "metadata": {},
   "outputs": [
    {
     "data": {
      "text/plain": [
       "True"
      ]
     },
     "execution_count": 4,
     "metadata": {},
     "output_type": "execute_result"
    }
   ],
   "source": [
    "from dotenv import load_dotenv, find_dotenv\n",
    "load_dotenv()"
   ]
  },
  {
   "cell_type": "code",
   "execution_count": 22,
   "metadata": {},
   "outputs": [],
   "source": [
    "llm = OpenAI(\n",
    "    temperature=0.0, openai_api_key=os.getenv(\"OPENAI_API_KEY\")\n",
    ")"
   ]
  },
  {
   "cell_type": "code",
   "execution_count": 14,
   "metadata": {},
   "outputs": [],
   "source": [
    "calories_input_variables = [\n",
    "    \"age\",\n",
    "    \"current_weight\",\n",
    "    \"desired_weight\",\n",
    "    \"current_height\",\n",
    "    \"gender\",\n",
    "    \"activity_level\",\n",
    "]"
   ]
  },
  {
   "cell_type": "code",
   "execution_count": 25,
   "metadata": {},
   "outputs": [],
   "source": [
    "calories_template = PromptTemplate(\n",
    "    input_variables= calories_input_variables,\n",
    "    template=\"I am a {age} {gender}. My current weight is {current_weight} kgs and my current height is {current_height}cm. I am a {activity_level} person. What will be my calories goal per day if my desired weight is {desired_weight} kgs? Just give me the calories.\"\n",
    ")"
   ]
  },
  {
   "cell_type": "code",
   "execution_count": 17,
   "metadata": {},
   "outputs": [],
   "source": [
    "calories_message = calories_template.format_prompt(\n",
    "    age=23,\n",
    "    current_weight=80,\n",
    "    desired_weight=85,\n",
    "    current_height=180,\n",
    "    gender=\"Male\",\n",
    "    activity_level=\"highly active\",\n",
    ")"
   ]
  },
  {
   "cell_type": "code",
   "execution_count": 23,
   "metadata": {},
   "outputs": [
    {
     "name": "stdout",
     "output_type": "stream",
     "text": [
      "I am a 23 Male. My current weight is 80 kgs and my current height is 180cm. I am a highly active person. What will be my calories goal per day if my desired weight is 85 kgs?\n"
     ]
    }
   ],
   "source": [
    "print(calories_message.text)"
   ]
  },
  {
   "cell_type": "code",
   "execution_count": 26,
   "metadata": {},
   "outputs": [
    {
     "name": "stdout",
     "output_type": "stream",
     "text": [
      "\n",
      "\n",
      "To maintain your current weight of 80 kgs, your daily calorie intake should be around 2,400 calories. To reach your desired weight of 85 kgs, you will need to increase your calorie intake by approximately 500-600 calories per day. This means your daily calorie goal should be around 3,000 calories. However, keep in mind that this is just an estimate and your actual calorie needs may vary depending on your activity level, metabolism, and other factors. It is always best to consult with a healthcare professional or registered dietitian to determine a personalized calorie goal for your specific needs and goals.\n"
     ]
    }
   ],
   "source": [
    "print(llm.invoke(calories_message))"
   ]
  },
  {
   "cell_type": "code",
   "execution_count": 5,
   "metadata": {},
   "outputs": [
    {
     "data": {
      "text/plain": [
       "'I am a 23 male. My current weight is 80. I want to get to 70 weight. Suggest me a meal plan for today'"
      ]
     },
     "execution_count": 5,
     "metadata": {},
     "output_type": "execute_result"
    }
   ],
   "source": [
    "prompt_template = PromptTemplate(\n",
    "    input_variables=[\"age\", \"weight\", \"gender\", \"desired\"],\n",
    "    template=\"I am a {age} {gender}. My current weight is {weight}. I want to get to {desired} weight. Suggest me a meal plan for today\",\n",
    ")\n"
   ]
  },
  {
   "cell_type": "code",
   "execution_count": null,
   "metadata": {},
   "outputs": [],
   "source": [
    "message = prompt_template.format(age=23, weight=80, gender=\"male\", desired=70)\n",
    "print(message)"
   ]
  },
  {
   "cell_type": "code",
   "execution_count": 10,
   "metadata": {},
   "outputs": [
    {
     "name": "stdout",
     "output_type": "stream",
     "text": [
      "\n",
      "\n",
      "Breakfast:\n",
      "- 2 boiled eggs\n",
      "- 1 slice of whole wheat toast with avocado spread\n",
      "- 1 small fruit (apple, banana, or orange)\n",
      "- 1 cup of green tea\n",
      "\n",
      "Snack:\n",
      "- 1 small Greek yogurt with berries\n",
      "- 10 almonds\n",
      "\n",
      "Lunch:\n",
      "- Grilled chicken breast (4 oz)\n",
      "- 1 cup of quinoa\n",
      "- 1 cup of steamed vegetables (broccoli, carrots, and bell peppers)\n",
      "- 1 small side salad with balsamic vinaigrette dressing\n",
      "\n",
      "Snack:\n",
      "- 1 small apple with 1 tablespoon of almond butter\n",
      "\n",
      "Dinner:\n",
      "- Baked salmon (4 oz)\n",
      "- 1 cup of brown rice\n",
      "- 1 cup of roasted vegetables (zucchini, squash, and onions)\n",
      "- 1 small side salad with olive oil and lemon dressing\n",
      "\n",
      "Before bed:\n",
      "- 1 cup of chamomile tea\n",
      "\n",
      "Remember to drink plenty of water throughout the day and listen to your body's hunger and fullness cues. Also, try to incorporate some form of physical activity into your daily routine to help with weight loss. Consult with a healthcare professional before starting any new meal plan or exercise routine.\n"
     ]
    }
   ],
   "source": [
    "print(llm.invoke(message))"
   ]
  },
  {
   "cell_type": "code",
   "execution_count": null,
   "metadata": {},
   "outputs": [],
   "source": []
  },
  {
   "cell_type": "code",
   "execution_count": null,
   "metadata": {},
   "outputs": [],
   "source": []
  },
  {
   "cell_type": "code",
   "execution_count": null,
   "metadata": {},
   "outputs": [],
   "source": []
  }
 ],
 "metadata": {
  "kernelspec": {
   "display_name": "Python 3",
   "language": "python",
   "name": "python3"
  },
  "language_info": {
   "codemirror_mode": {
    "name": "ipython",
    "version": 3
   },
   "file_extension": ".py",
   "mimetype": "text/x-python",
   "name": "python",
   "nbconvert_exporter": "python",
   "pygments_lexer": "ipython3",
   "version": "3.9.0"
  }
 },
 "nbformat": 4,
 "nbformat_minor": 2
}
